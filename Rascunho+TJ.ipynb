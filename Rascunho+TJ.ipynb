{
 "cells": [
  {
   "cell_type": "markdown",
   "metadata": {},
   "source": [
    "# Trabalho EDA Transparência Joinville\n",
    "\n",
    "#### Objetivo: Realizar uma EDA (Exploratory Data Analysis ou Análise de Dados Exploratória) com a linguagem Python nos dados das indicações dos vereadores da Cidade de Joinville-SC obtidos pelo projeto Transparência Joivinlle (https://www.facebook.com/TransparenciaJoinville/).\n",
    "\n",
    "* Como todo cientista de dados sabe, dados nunca vêm \"limpos\"!"
   ]
  },
  {
   "cell_type": "code",
   "execution_count": 1,
   "metadata": {
    "collapsed": true
   },
   "outputs": [],
   "source": [
    "#importando bibliotecas\n",
    "import matplotlib.pyplot as plt\n",
    "import pandas as pd\n",
    "import numpy as np\n",
    "import glob"
   ]
  },
  {
   "cell_type": "markdown",
   "metadata": {},
   "source": [
    "Os dados das indicações foram disponibilizados em 42 arquivos de excel. O código abaixo irá inicializar um DataFrame vazio e depois irá ler cada arquivo excel do diretório concatenando seu conteúdo no DataFrame."
   ]
  },
  {
   "cell_type": "code",
   "execution_count": 3,
   "metadata": {
    "collapsed": false
   },
   "outputs": [],
   "source": [
    "indi = pd.DataFrame()\n",
    "for file in glob.glob(r\"Dados\\Indicacoes\\*.xls\"):\n",
    "    df = pd.read_excel(file)\n",
    "    indi = indi.append(df, ignore_index=True)"
   ]
  },
  {
   "cell_type": "markdown",
   "metadata": {},
   "source": [
    "Agora já podemos analisar como ficou o nosso DataFrame."
   ]
  },
  {
   "cell_type": "code",
   "execution_count": 4,
   "metadata": {
    "collapsed": false
   },
   "outputs": [
    {
     "name": "stdout",
     "output_type": "stream",
     "text": [
      "<class 'pandas.core.frame.DataFrame'>\n",
      "RangeIndex: 6063 entries, 0 to 6062\n",
      "Data columns (total 9 columns):\n",
      "Diário       0 non-null float64\n",
      "Número       6063 non-null int64\n",
      "Ano          6063 non-null object\n",
      "Data         0 non-null float64\n",
      "Vereador     6063 non-null object\n",
      "Descrição    6051 non-null object\n",
      "Rua          5416 non-null object\n",
      "Obs          0 non-null float64\n",
      "Bairro       4511 non-null object\n",
      "dtypes: float64(3), int64(1), object(5)\n",
      "memory usage: 426.4+ KB\n"
     ]
    }
   ],
   "source": [
    "indi.info()"
   ]
  },
  {
   "cell_type": "markdown",
   "metadata": {},
   "source": [
    "Bom, o que podemos perceber em uma primeira vista é que temos 3 colunas vazias (Diário, Data e Obs) e 3 colunas (Descrição, Rua e Bairro) que tem dados faltantes - pois não tem todos os 6.063 registros da tabela. \n",
    "Também nos chama a atenção que a coluna Ano tenha sido importada com tipo 'object' (ou String) quando seria esperado tipo 'int64' (numérico). \n",
    "Vamos dar uma olhada nos dados para averiguar (o comando a seguir mostra os primeiros 5 registros do DataFrame):"
   ]
  },
  {
   "cell_type": "code",
   "execution_count": 5,
   "metadata": {
    "collapsed": false
   },
   "outputs": [
    {
     "data": {
      "text/html": [
       "<div>\n",
       "<table border=\"1\" class=\"dataframe\">\n",
       "  <thead>\n",
       "    <tr style=\"text-align: right;\">\n",
       "      <th></th>\n",
       "      <th>Diário</th>\n",
       "      <th>Número</th>\n",
       "      <th>Ano</th>\n",
       "      <th>Data</th>\n",
       "      <th>Vereador</th>\n",
       "      <th>Descrição</th>\n",
       "      <th>Rua</th>\n",
       "      <th>Obs</th>\n",
       "      <th>Bairro</th>\n",
       "    </tr>\n",
       "  </thead>\n",
       "  <tbody>\n",
       "    <tr>\n",
       "      <th>0</th>\n",
       "      <td>NaN</td>\n",
       "      <td>3364</td>\n",
       "      <td>2017</td>\n",
       "      <td>NaN</td>\n",
       "      <td>Rodrigo Coelho</td>\n",
       "      <td>Patrolamento e ensaibramento da Rua Jovita Aze...</td>\n",
       "      <td>Jovita Azevedo</td>\n",
       "      <td>NaN</td>\n",
       "      <td>NaN</td>\n",
       "    </tr>\n",
       "    <tr>\n",
       "      <th>1</th>\n",
       "      <td>NaN</td>\n",
       "      <td>3725</td>\n",
       "      <td>2017</td>\n",
       "      <td>NaN</td>\n",
       "      <td>Richard Harrison</td>\n",
       "      <td>Limpeza de tubulação Rua Orlando em toda sua e...</td>\n",
       "      <td>Orlando em toda sua extensão.Justificativa:Com...</td>\n",
       "      <td>NaN</td>\n",
       "      <td>NaN</td>\n",
       "    </tr>\n",
       "    <tr>\n",
       "      <th>2</th>\n",
       "      <td>NaN</td>\n",
       "      <td>3734</td>\n",
       "      <td>2017</td>\n",
       "      <td>NaN</td>\n",
       "      <td>Richard Harrison</td>\n",
       "      <td>Erosão na Rua Professor João Belarmino da Roch...</td>\n",
       "      <td>Professor João Belarmino da Rocha</td>\n",
       "      <td>NaN</td>\n",
       "      <td>Itaum</td>\n",
       "    </tr>\n",
       "    <tr>\n",
       "      <th>3</th>\n",
       "      <td>NaN</td>\n",
       "      <td>3738</td>\n",
       "      <td>2017</td>\n",
       "      <td>NaN</td>\n",
       "      <td>Richard Harrison</td>\n",
       "      <td>Instalação de tampa de boca de lobo na Rua Ant...</td>\n",
       "      <td>Antonio Pereirade Macedo</td>\n",
       "      <td>NaN</td>\n",
       "      <td>Itaum</td>\n",
       "    </tr>\n",
       "    <tr>\n",
       "      <th>4</th>\n",
       "      <td>NaN</td>\n",
       "      <td>3742</td>\n",
       "      <td>2017</td>\n",
       "      <td>NaN</td>\n",
       "      <td>Richard Harrison</td>\n",
       "      <td>Limpeza das bocas de lobo da Rua Antonio Perei...</td>\n",
       "      <td>Antonio Pereira deMacedo</td>\n",
       "      <td>NaN</td>\n",
       "      <td>Itaum</td>\n",
       "    </tr>\n",
       "  </tbody>\n",
       "</table>\n",
       "</div>"
      ],
      "text/plain": [
       "   Diário  Número   Ano  Data          Vereador  \\\n",
       "0     NaN    3364  2017   NaN    Rodrigo Coelho   \n",
       "1     NaN    3725  2017   NaN  Richard Harrison   \n",
       "2     NaN    3734  2017   NaN  Richard Harrison   \n",
       "3     NaN    3738  2017   NaN  Richard Harrison   \n",
       "4     NaN    3742  2017   NaN  Richard Harrison   \n",
       "\n",
       "                                           Descrição  \\\n",
       "0  Patrolamento e ensaibramento da Rua Jovita Aze...   \n",
       "1  Limpeza de tubulação Rua Orlando em toda sua e...   \n",
       "2  Erosão na Rua Professor João Belarmino da Roch...   \n",
       "3  Instalação de tampa de boca de lobo na Rua Ant...   \n",
       "4  Limpeza das bocas de lobo da Rua Antonio Perei...   \n",
       "\n",
       "                                                 Rua  Obs Bairro  \n",
       "0                                     Jovita Azevedo  NaN    NaN  \n",
       "1  Orlando em toda sua extensão.Justificativa:Com...  NaN    NaN  \n",
       "2                  Professor João Belarmino da Rocha  NaN  Itaum  \n",
       "3                           Antonio Pereirade Macedo  NaN  Itaum  \n",
       "4                           Antonio Pereira deMacedo  NaN  Itaum  "
      ]
     },
     "execution_count": 5,
     "metadata": {},
     "output_type": "execute_result"
    }
   ],
   "source": [
    "indi.head()"
   ]
  },
  {
   "cell_type": "markdown",
   "metadata": {},
   "source": [
    "Os primeiros registros confirmam que a coluna Ano deveria ter sido importada como número. Vamos investigar mais a fundo os dados dessa coluna. O comando a seguir mostra a lista de valores únicos que ela contém:"
   ]
  },
  {
   "cell_type": "code",
   "execution_count": 6,
   "metadata": {
    "collapsed": false
   },
   "outputs": [
    {
     "data": {
      "text/plain": [
       "array([2017, '2017', '2017 Richard Harrison', '2017 Rodrigo Fachini',\n",
       "       '2017 Rodrigo Coelho', '2017 Pelé', '2017 Mauricinho Soares',\n",
       "       '2017 Lioilson Corrêa', '2017 Natanael Jordão'], dtype=object)"
      ]
     },
     "execution_count": 6,
     "metadata": {},
     "output_type": "execute_result"
    }
   ],
   "source": [
    "indi['Ano'].unique()"
   ]
  },
  {
   "cell_type": "markdown",
   "metadata": {},
   "source": [
    "Aqui está o problema: alguns registros foram importados como número, outros como string e outros ainda concatenando o Ano com o nome do Vereador. \n",
    "Primeiro vamos transformar os registros string ('2017') para numérico (2017):"
   ]
  },
  {
   "cell_type": "code",
   "execution_count": 24,
   "metadata": {
    "collapsed": false
   },
   "outputs": [
    {
     "data": {
      "text/plain": [
       "0"
      ]
     },
     "execution_count": 24,
     "metadata": {},
     "output_type": "execute_result"
    }
   ],
   "source": [
    "char2017 = indi['Ano']=='2017'\n",
    "indi[char2017]['Ano'] = 2017\n",
    "indi['Ano'].loc[indi['Ano']=='2017'].count()"
   ]
  },
  {
   "cell_type": "markdown",
   "metadata": {},
   "source": [
    "Com os comandos acima eu criei um índice que considerasse apenas os registros cuja coluna Ano fosse igual a 2017 string. \n",
    "Depois, para esses registros eu joguei o valor de 2017 (numérico). Ao final, apenas para conferir, executei o comando que conta\n",
    "os registros que forem estiverem com '2017' (string) e o retorno = 0 mostrou que atingi o objetivo. "
   ]
  },
  {
   "cell_type": "markdown",
   "metadata": {},
   "source": [
    "Agora vamos nos ocupar dos registros que concatenaram Ano com o nome do Vereador. Para iniciar, vamos contar quantos registros\n",
    "são (vou pegar todos que ainda forem diferente de 2017 (numérico)):"
   ]
  },
  {
   "cell_type": "code",
   "execution_count": 25,
   "metadata": {
    "collapsed": false
   },
   "outputs": [
    {
     "data": {
      "text/plain": [
       "10"
      ]
     },
     "execution_count": 25,
     "metadata": {},
     "output_type": "execute_result"
    }
   ],
   "source": [
    "indi['Ano'].loc[indi['Ano']!=2017].count()"
   ]
  },
  {
   "cell_type": "markdown",
   "metadata": {},
   "source": [
    "Vamos dar uma olhada nesses 10 registros:"
   ]
  },
  {
   "cell_type": "code",
   "execution_count": 26,
   "metadata": {
    "collapsed": false
   },
   "outputs": [
    {
     "data": {
      "text/html": [
       "<div>\n",
       "<table border=\"1\" class=\"dataframe\">\n",
       "  <thead>\n",
       "    <tr style=\"text-align: right;\">\n",
       "      <th></th>\n",
       "      <th>Diário</th>\n",
       "      <th>Número</th>\n",
       "      <th>Ano</th>\n",
       "      <th>Data</th>\n",
       "      <th>Vereador</th>\n",
       "      <th>Descrição</th>\n",
       "      <th>Rua</th>\n",
       "      <th>Obs</th>\n",
       "      <th>Bairro</th>\n",
       "    </tr>\n",
       "  </thead>\n",
       "  <tbody>\n",
       "    <tr>\n",
       "      <th>100</th>\n",
       "      <td>NaN</td>\n",
       "      <td>4263</td>\n",
       "      <td>2017 Richard Harrison</td>\n",
       "      <td>NaN</td>\n",
       "      <td>Richard Harrison</td>\n",
       "      <td>NaN</td>\n",
       "      <td>Rua Piratuba. Justificativa : Pracinha encontr...</td>\n",
       "      <td>NaN</td>\n",
       "      <td>NaN</td>\n",
       "    </tr>\n",
       "    <tr>\n",
       "      <th>114</th>\n",
       "      <td>NaN</td>\n",
       "      <td>4318</td>\n",
       "      <td>2017 Rodrigo Fachini</td>\n",
       "      <td>NaN</td>\n",
       "      <td>Rodrigo Fachini</td>\n",
       "      <td>NaN</td>\n",
       "      <td>São Tiago</td>\n",
       "      <td>NaN</td>\n",
       "      <td>Fátima</td>\n",
       "    </tr>\n",
       "    <tr>\n",
       "      <th>127</th>\n",
       "      <td>NaN</td>\n",
       "      <td>4457</td>\n",
       "      <td>2017 Rodrigo Coelho</td>\n",
       "      <td>NaN</td>\n",
       "      <td>Rodrigo Coelho</td>\n",
       "      <td>NaN</td>\n",
       "      <td>Aracajú com a Avenida Marcos Welmuth</td>\n",
       "      <td>NaN</td>\n",
       "      <td>NaN</td>\n",
       "    </tr>\n",
       "    <tr>\n",
       "      <th>1001</th>\n",
       "      <td>NaN</td>\n",
       "      <td>5522</td>\n",
       "      <td>2017 Pelé</td>\n",
       "      <td>NaN</td>\n",
       "      <td>Pelé</td>\n",
       "      <td>NaN</td>\n",
       "      <td>Severino Gretter</td>\n",
       "      <td>NaN</td>\n",
       "      <td>NaN</td>\n",
       "    </tr>\n",
       "    <tr>\n",
       "      <th>1015</th>\n",
       "      <td>NaN</td>\n",
       "      <td>5653</td>\n",
       "      <td>2017 Mauricinho Soares</td>\n",
       "      <td>NaN</td>\n",
       "      <td>Mauricinho Soares</td>\n",
       "      <td>NaN</td>\n",
       "      <td>Constantino Oliveira Borges s/n</td>\n",
       "      <td>NaN</td>\n",
       "      <td>João Costa</td>\n",
       "    </tr>\n",
       "    <tr>\n",
       "      <th>1026</th>\n",
       "      <td>NaN</td>\n",
       "      <td>5670</td>\n",
       "      <td>2017 Rodrigo Coelho</td>\n",
       "      <td>NaN</td>\n",
       "      <td>Rodrigo Coelho</td>\n",
       "      <td>NaN</td>\n",
       "      <td>Itaporã</td>\n",
       "      <td>NaN</td>\n",
       "      <td>NaN</td>\n",
       "    </tr>\n",
       "    <tr>\n",
       "      <th>1792</th>\n",
       "      <td>NaN</td>\n",
       "      <td>6506</td>\n",
       "      <td>2017 Lioilson Corrêa</td>\n",
       "      <td>NaN</td>\n",
       "      <td>Lioilson Corrêa</td>\n",
       "      <td>NaN</td>\n",
       "      <td>NaN</td>\n",
       "      <td>NaN</td>\n",
       "      <td>Paranaguamirim</td>\n",
       "    </tr>\n",
       "    <tr>\n",
       "      <th>1804</th>\n",
       "      <td>NaN</td>\n",
       "      <td>6630</td>\n",
       "      <td>2017 Rodrigo Coelho</td>\n",
       "      <td>NaN</td>\n",
       "      <td>Rodrigo Coelho</td>\n",
       "      <td>NaN</td>\n",
       "      <td>Praeses Wuestner</td>\n",
       "      <td>NaN</td>\n",
       "      <td>NaN</td>\n",
       "    </tr>\n",
       "    <tr>\n",
       "      <th>1863</th>\n",
       "      <td>NaN</td>\n",
       "      <td>6728</td>\n",
       "      <td>2017 Natanael Jordão</td>\n",
       "      <td>NaN</td>\n",
       "      <td>Natanael Jordão</td>\n",
       "      <td>NaN</td>\n",
       "      <td>Rua Padre Valente Semioni em toda a sua extens...</td>\n",
       "      <td>NaN</td>\n",
       "      <td>Aventureiro</td>\n",
       "    </tr>\n",
       "    <tr>\n",
       "      <th>1878</th>\n",
       "      <td>NaN</td>\n",
       "      <td>6747</td>\n",
       "      <td>2017 Natanael Jordão</td>\n",
       "      <td>NaN</td>\n",
       "      <td>Natanael Jordão</td>\n",
       "      <td>NaN</td>\n",
       "      <td>Pica-Pau próximo ao n° 639</td>\n",
       "      <td>NaN</td>\n",
       "      <td>Aventureiro</td>\n",
       "    </tr>\n",
       "  </tbody>\n",
       "</table>\n",
       "</div>"
      ],
      "text/plain": [
       "      Diário  Número                     Ano  Data           Vereador  \\\n",
       "100      NaN    4263   2017 Richard Harrison   NaN   Richard Harrison   \n",
       "114      NaN    4318    2017 Rodrigo Fachini   NaN    Rodrigo Fachini   \n",
       "127      NaN    4457     2017 Rodrigo Coelho   NaN     Rodrigo Coelho   \n",
       "1001     NaN    5522               2017 Pelé   NaN               Pelé   \n",
       "1015     NaN    5653  2017 Mauricinho Soares   NaN  Mauricinho Soares   \n",
       "1026     NaN    5670     2017 Rodrigo Coelho   NaN     Rodrigo Coelho   \n",
       "1792     NaN    6506    2017 Lioilson Corrêa   NaN    Lioilson Corrêa   \n",
       "1804     NaN    6630     2017 Rodrigo Coelho   NaN     Rodrigo Coelho   \n",
       "1863     NaN    6728    2017 Natanael Jordão   NaN    Natanael Jordão   \n",
       "1878     NaN    6747    2017 Natanael Jordão   NaN    Natanael Jordão   \n",
       "\n",
       "     Descrição                                                Rua  Obs  \\\n",
       "100        NaN  Rua Piratuba. Justificativa : Pracinha encontr...  NaN   \n",
       "114        NaN                                          São Tiago  NaN   \n",
       "127        NaN               Aracajú com a Avenida Marcos Welmuth  NaN   \n",
       "1001       NaN                                   Severino Gretter  NaN   \n",
       "1015       NaN                    Constantino Oliveira Borges s/n  NaN   \n",
       "1026       NaN                                            Itaporã  NaN   \n",
       "1792       NaN                                                NaN  NaN   \n",
       "1804       NaN                                   Praeses Wuestner  NaN   \n",
       "1863       NaN  Rua Padre Valente Semioni em toda a sua extens...  NaN   \n",
       "1878       NaN                         Pica-Pau próximo ao n° 639  NaN   \n",
       "\n",
       "              Bairro  \n",
       "100              NaN  \n",
       "114           Fátima  \n",
       "127              NaN  \n",
       "1001             NaN  \n",
       "1015      João Costa  \n",
       "1026             NaN  \n",
       "1792  Paranaguamirim  \n",
       "1804             NaN  \n",
       "1863     Aventureiro  \n",
       "1878     Aventureiro  "
      ]
     },
     "execution_count": 26,
     "metadata": {},
     "output_type": "execute_result"
    }
   ],
   "source": [
    "concatenados = indi['Ano']!=2017\n",
    "indi[concatenados]"
   ]
  },
  {
   "cell_type": "markdown",
   "metadata": {},
   "source": [
    "Bom, apesar de terem concatenado o nome do Vereador na coluna Ano, a coluna Vereador está preenchida (imaginei que poderia estar vazia). Agora só temos que limpar, nestes registros, esta \"sujeira\" na coluna Ano. Neste caso, como são poucos registros, vemos que bastaria jogar 2017 de forma fixa nesses registros mas vamos agir da maneira mais genérica possível (pensando que poderiam haver anos diferentes para cada registro). Com a função split() eu consigo pegar apenas uma palavra (o ano) do campo que está concatenado com o nome do vereador. "
   ]
  },
  {
   "cell_type": "code",
   "execution_count": 27,
   "metadata": {
    "collapsed": false,
    "scrolled": true
   },
   "outputs": [
    {
     "data": {
      "text/html": [
       "<div>\n",
       "<table border=\"1\" class=\"dataframe\">\n",
       "  <thead>\n",
       "    <tr style=\"text-align: right;\">\n",
       "      <th></th>\n",
       "      <th>Diário</th>\n",
       "      <th>Número</th>\n",
       "      <th>Ano</th>\n",
       "      <th>Data</th>\n",
       "      <th>Vereador</th>\n",
       "      <th>Descrição</th>\n",
       "      <th>Rua</th>\n",
       "      <th>Obs</th>\n",
       "      <th>Bairro</th>\n",
       "    </tr>\n",
       "  </thead>\n",
       "  <tbody>\n",
       "    <tr>\n",
       "      <th>100</th>\n",
       "      <td>NaN</td>\n",
       "      <td>4263</td>\n",
       "      <td>2017</td>\n",
       "      <td>NaN</td>\n",
       "      <td>Richard Harrison</td>\n",
       "      <td>NaN</td>\n",
       "      <td>Rua Piratuba. Justificativa : Pracinha encontr...</td>\n",
       "      <td>NaN</td>\n",
       "      <td>NaN</td>\n",
       "    </tr>\n",
       "    <tr>\n",
       "      <th>114</th>\n",
       "      <td>NaN</td>\n",
       "      <td>4318</td>\n",
       "      <td>2017</td>\n",
       "      <td>NaN</td>\n",
       "      <td>Rodrigo Fachini</td>\n",
       "      <td>NaN</td>\n",
       "      <td>São Tiago</td>\n",
       "      <td>NaN</td>\n",
       "      <td>Fátima</td>\n",
       "    </tr>\n",
       "    <tr>\n",
       "      <th>127</th>\n",
       "      <td>NaN</td>\n",
       "      <td>4457</td>\n",
       "      <td>2017</td>\n",
       "      <td>NaN</td>\n",
       "      <td>Rodrigo Coelho</td>\n",
       "      <td>NaN</td>\n",
       "      <td>Aracajú com a Avenida Marcos Welmuth</td>\n",
       "      <td>NaN</td>\n",
       "      <td>NaN</td>\n",
       "    </tr>\n",
       "    <tr>\n",
       "      <th>1001</th>\n",
       "      <td>NaN</td>\n",
       "      <td>5522</td>\n",
       "      <td>2017</td>\n",
       "      <td>NaN</td>\n",
       "      <td>Pelé</td>\n",
       "      <td>NaN</td>\n",
       "      <td>Severino Gretter</td>\n",
       "      <td>NaN</td>\n",
       "      <td>NaN</td>\n",
       "    </tr>\n",
       "    <tr>\n",
       "      <th>1015</th>\n",
       "      <td>NaN</td>\n",
       "      <td>5653</td>\n",
       "      <td>2017</td>\n",
       "      <td>NaN</td>\n",
       "      <td>Mauricinho Soares</td>\n",
       "      <td>NaN</td>\n",
       "      <td>Constantino Oliveira Borges s/n</td>\n",
       "      <td>NaN</td>\n",
       "      <td>João Costa</td>\n",
       "    </tr>\n",
       "    <tr>\n",
       "      <th>1026</th>\n",
       "      <td>NaN</td>\n",
       "      <td>5670</td>\n",
       "      <td>2017</td>\n",
       "      <td>NaN</td>\n",
       "      <td>Rodrigo Coelho</td>\n",
       "      <td>NaN</td>\n",
       "      <td>Itaporã</td>\n",
       "      <td>NaN</td>\n",
       "      <td>NaN</td>\n",
       "    </tr>\n",
       "    <tr>\n",
       "      <th>1792</th>\n",
       "      <td>NaN</td>\n",
       "      <td>6506</td>\n",
       "      <td>2017</td>\n",
       "      <td>NaN</td>\n",
       "      <td>Lioilson Corrêa</td>\n",
       "      <td>NaN</td>\n",
       "      <td>NaN</td>\n",
       "      <td>NaN</td>\n",
       "      <td>Paranaguamirim</td>\n",
       "    </tr>\n",
       "    <tr>\n",
       "      <th>1804</th>\n",
       "      <td>NaN</td>\n",
       "      <td>6630</td>\n",
       "      <td>2017</td>\n",
       "      <td>NaN</td>\n",
       "      <td>Rodrigo Coelho</td>\n",
       "      <td>NaN</td>\n",
       "      <td>Praeses Wuestner</td>\n",
       "      <td>NaN</td>\n",
       "      <td>NaN</td>\n",
       "    </tr>\n",
       "    <tr>\n",
       "      <th>1863</th>\n",
       "      <td>NaN</td>\n",
       "      <td>6728</td>\n",
       "      <td>2017</td>\n",
       "      <td>NaN</td>\n",
       "      <td>Natanael Jordão</td>\n",
       "      <td>NaN</td>\n",
       "      <td>Rua Padre Valente Semioni em toda a sua extens...</td>\n",
       "      <td>NaN</td>\n",
       "      <td>Aventureiro</td>\n",
       "    </tr>\n",
       "    <tr>\n",
       "      <th>1878</th>\n",
       "      <td>NaN</td>\n",
       "      <td>6747</td>\n",
       "      <td>2017</td>\n",
       "      <td>NaN</td>\n",
       "      <td>Natanael Jordão</td>\n",
       "      <td>NaN</td>\n",
       "      <td>Pica-Pau próximo ao n° 639</td>\n",
       "      <td>NaN</td>\n",
       "      <td>Aventureiro</td>\n",
       "    </tr>\n",
       "  </tbody>\n",
       "</table>\n",
       "</div>"
      ],
      "text/plain": [
       "      Diário  Número   Ano  Data           Vereador Descrição  \\\n",
       "100      NaN    4263  2017   NaN   Richard Harrison       NaN   \n",
       "114      NaN    4318  2017   NaN    Rodrigo Fachini       NaN   \n",
       "127      NaN    4457  2017   NaN     Rodrigo Coelho       NaN   \n",
       "1001     NaN    5522  2017   NaN               Pelé       NaN   \n",
       "1015     NaN    5653  2017   NaN  Mauricinho Soares       NaN   \n",
       "1026     NaN    5670  2017   NaN     Rodrigo Coelho       NaN   \n",
       "1792     NaN    6506  2017   NaN    Lioilson Corrêa       NaN   \n",
       "1804     NaN    6630  2017   NaN     Rodrigo Coelho       NaN   \n",
       "1863     NaN    6728  2017   NaN    Natanael Jordão       NaN   \n",
       "1878     NaN    6747  2017   NaN    Natanael Jordão       NaN   \n",
       "\n",
       "                                                    Rua  Obs          Bairro  \n",
       "100   Rua Piratuba. Justificativa : Pracinha encontr...  NaN             NaN  \n",
       "114                                           São Tiago  NaN          Fátima  \n",
       "127                Aracajú com a Avenida Marcos Welmuth  NaN             NaN  \n",
       "1001                                   Severino Gretter  NaN             NaN  \n",
       "1015                    Constantino Oliveira Borges s/n  NaN      João Costa  \n",
       "1026                                            Itaporã  NaN             NaN  \n",
       "1792                                                NaN  NaN  Paranaguamirim  \n",
       "1804                                   Praeses Wuestner  NaN             NaN  \n",
       "1863  Rua Padre Valente Semioni em toda a sua extens...  NaN     Aventureiro  \n",
       "1878                         Pica-Pau próximo ao n° 639  NaN     Aventureiro  "
      ]
     },
     "execution_count": 27,
     "metadata": {},
     "output_type": "execute_result"
    }
   ],
   "source": [
    "indi.loc[indi['Ano'] != 2017, 'Ano'] = str(indi.loc[indi['Ano'] != 2017, 'Ano']).split()[1]\n",
    "indi[concatenados]"
   ]
  },
  {
   "cell_type": "markdown",
   "metadata": {},
   "source": [
    "Pronto. Coluna Ano ajustada. Agora já podemos transformar o tipo desta coluna para numérico."
   ]
  },
  {
   "cell_type": "code",
   "execution_count": 28,
   "metadata": {
    "collapsed": false
   },
   "outputs": [
    {
     "name": "stdout",
     "output_type": "stream",
     "text": [
      "<class 'pandas.core.frame.DataFrame'>\n",
      "RangeIndex: 6063 entries, 0 to 6062\n",
      "Data columns (total 9 columns):\n",
      "Diário       0 non-null float64\n",
      "Número       6063 non-null int64\n",
      "Ano          6063 non-null int32\n",
      "Data         0 non-null float64\n",
      "Vereador     6063 non-null object\n",
      "Descrição    6051 non-null object\n",
      "Rua          5416 non-null object\n",
      "Obs          0 non-null float64\n",
      "Bairro       4511 non-null object\n",
      "dtypes: float64(3), int32(1), int64(1), object(4)\n",
      "memory usage: 402.7+ KB\n"
     ]
    }
   ],
   "source": [
    "indi['Ano'] = indi['Ano'].astype('int')\n",
    "indi.info()"
   ]
  },
  {
   "cell_type": "markdown",
   "metadata": {},
   "source": [
    "Agora vamos verificar as demais colunas que estão incompletas. Inicialmente vamos contar quantos registros estão faltando em cada coluna."
   ]
  },
  {
   "cell_type": "code",
   "execution_count": 47,
   "metadata": {
    "collapsed": false
   },
   "outputs": [
    {
     "data": {
      "text/plain": [
       "12"
      ]
     },
     "execution_count": 47,
     "metadata": {},
     "output_type": "execute_result"
    }
   ],
   "source": [
    "indi['Descrição'].isnull().sum()"
   ]
  },
  {
   "cell_type": "code",
   "execution_count": 48,
   "metadata": {
    "collapsed": false
   },
   "outputs": [
    {
     "data": {
      "text/plain": [
       "647"
      ]
     },
     "execution_count": 48,
     "metadata": {},
     "output_type": "execute_result"
    }
   ],
   "source": [
    "indi['Rua'].isnull().sum()"
   ]
  },
  {
   "cell_type": "code",
   "execution_count": 49,
   "metadata": {
    "collapsed": false
   },
   "outputs": [
    {
     "data": {
      "text/plain": [
       "1552"
      ]
     },
     "execution_count": 49,
     "metadata": {},
     "output_type": "execute_result"
    }
   ],
   "source": [
    "indi['Bairro'].isnull().sum()"
   ]
  },
  {
   "cell_type": "markdown",
   "metadata": {},
   "source": [
    "Como são poucos, vamos dar uma olhada nos 12 registros que não tem o campo Descrição:"
   ]
  },
  {
   "cell_type": "code",
   "execution_count": 86,
   "metadata": {
    "collapsed": false
   },
   "outputs": [
    {
     "data": {
      "text/html": [
       "<div>\n",
       "<table border=\"1\" class=\"dataframe\">\n",
       "  <thead>\n",
       "    <tr style=\"text-align: right;\">\n",
       "      <th></th>\n",
       "      <th>Diário</th>\n",
       "      <th>Número</th>\n",
       "      <th>Ano</th>\n",
       "      <th>Data</th>\n",
       "      <th>Vereador</th>\n",
       "      <th>Descrição</th>\n",
       "      <th>Rua</th>\n",
       "      <th>Obs</th>\n",
       "      <th>Bairro</th>\n",
       "    </tr>\n",
       "  </thead>\n",
       "  <tbody>\n",
       "    <tr>\n",
       "      <th>100</th>\n",
       "      <td>NaN</td>\n",
       "      <td>4263</td>\n",
       "      <td>2017</td>\n",
       "      <td>NaN</td>\n",
       "      <td>Richard Harrison</td>\n",
       "      <td>NaN</td>\n",
       "      <td>Rua Piratuba. Justificativa : Pracinha encontrasse com muito mato e sujeira impossibilitando as pessoas a utilizarem aquele espeço.</td>\n",
       "      <td>NaN</td>\n",
       "      <td>NaN</td>\n",
       "    </tr>\n",
       "    <tr>\n",
       "      <th>114</th>\n",
       "      <td>NaN</td>\n",
       "      <td>4318</td>\n",
       "      <td>2017</td>\n",
       "      <td>NaN</td>\n",
       "      <td>Rodrigo Fachini</td>\n",
       "      <td>NaN</td>\n",
       "      <td>São Tiago</td>\n",
       "      <td>NaN</td>\n",
       "      <td>Fátima</td>\n",
       "    </tr>\n",
       "    <tr>\n",
       "      <th>127</th>\n",
       "      <td>NaN</td>\n",
       "      <td>4457</td>\n",
       "      <td>2017</td>\n",
       "      <td>NaN</td>\n",
       "      <td>Rodrigo Coelho</td>\n",
       "      <td>NaN</td>\n",
       "      <td>Aracajú com a Avenida Marcos Welmuth</td>\n",
       "      <td>NaN</td>\n",
       "      <td>NaN</td>\n",
       "    </tr>\n",
       "    <tr>\n",
       "      <th>1001</th>\n",
       "      <td>NaN</td>\n",
       "      <td>5522</td>\n",
       "      <td>2017</td>\n",
       "      <td>NaN</td>\n",
       "      <td>Pelé</td>\n",
       "      <td>NaN</td>\n",
       "      <td>Severino Gretter</td>\n",
       "      <td>NaN</td>\n",
       "      <td>NaN</td>\n",
       "    </tr>\n",
       "    <tr>\n",
       "      <th>1004</th>\n",
       "      <td>NaN</td>\n",
       "      <td>5592</td>\n",
       "      <td>2017</td>\n",
       "      <td>NaN</td>\n",
       "      <td>Adilson Girardi</td>\n",
       "      <td>NaN</td>\n",
       "      <td>Orestes Guimarães</td>\n",
       "      <td>NaN</td>\n",
       "      <td>NaN</td>\n",
       "    </tr>\n",
       "    <tr>\n",
       "      <th>1015</th>\n",
       "      <td>NaN</td>\n",
       "      <td>5653</td>\n",
       "      <td>2017</td>\n",
       "      <td>NaN</td>\n",
       "      <td>Mauricinho Soares</td>\n",
       "      <td>NaN</td>\n",
       "      <td>Constantino Oliveira Borges s/n</td>\n",
       "      <td>NaN</td>\n",
       "      <td>João Costa</td>\n",
       "    </tr>\n",
       "    <tr>\n",
       "      <th>1026</th>\n",
       "      <td>NaN</td>\n",
       "      <td>5670</td>\n",
       "      <td>2017</td>\n",
       "      <td>NaN</td>\n",
       "      <td>Rodrigo Coelho</td>\n",
       "      <td>NaN</td>\n",
       "      <td>Itaporã</td>\n",
       "      <td>NaN</td>\n",
       "      <td>NaN</td>\n",
       "    </tr>\n",
       "    <tr>\n",
       "      <th>1028</th>\n",
       "      <td>NaN</td>\n",
       "      <td>5672</td>\n",
       "      <td>2017</td>\n",
       "      <td>NaN</td>\n",
       "      <td>Rodrigo Coelho</td>\n",
       "      <td>NaN</td>\n",
       "      <td>Esmaelita Frida Marino André</td>\n",
       "      <td>NaN</td>\n",
       "      <td>NaN</td>\n",
       "    </tr>\n",
       "    <tr>\n",
       "      <th>1792</th>\n",
       "      <td>NaN</td>\n",
       "      <td>6506</td>\n",
       "      <td>2017</td>\n",
       "      <td>NaN</td>\n",
       "      <td>Lioilson Corrêa</td>\n",
       "      <td>NaN</td>\n",
       "      <td>NaN</td>\n",
       "      <td>NaN</td>\n",
       "      <td>Paranaguamirim</td>\n",
       "    </tr>\n",
       "    <tr>\n",
       "      <th>1804</th>\n",
       "      <td>NaN</td>\n",
       "      <td>6630</td>\n",
       "      <td>2017</td>\n",
       "      <td>NaN</td>\n",
       "      <td>Rodrigo Coelho</td>\n",
       "      <td>NaN</td>\n",
       "      <td>Praeses Wuestner</td>\n",
       "      <td>NaN</td>\n",
       "      <td>NaN</td>\n",
       "    </tr>\n",
       "    <tr>\n",
       "      <th>1863</th>\n",
       "      <td>NaN</td>\n",
       "      <td>6728</td>\n",
       "      <td>2017</td>\n",
       "      <td>NaN</td>\n",
       "      <td>Natanael Jordão</td>\n",
       "      <td>NaN</td>\n",
       "      <td>Rua Padre Valente Semioni em toda a sua extensão no Bairro Aventureiro.</td>\n",
       "      <td>NaN</td>\n",
       "      <td>Aventureiro</td>\n",
       "    </tr>\n",
       "    <tr>\n",
       "      <th>1878</th>\n",
       "      <td>NaN</td>\n",
       "      <td>6747</td>\n",
       "      <td>2017</td>\n",
       "      <td>NaN</td>\n",
       "      <td>Natanael Jordão</td>\n",
       "      <td>NaN</td>\n",
       "      <td>Pica-Pau próximo ao n° 639</td>\n",
       "      <td>NaN</td>\n",
       "      <td>Aventureiro</td>\n",
       "    </tr>\n",
       "  </tbody>\n",
       "</table>\n",
       "</div>"
      ],
      "text/plain": [
       "      Diário  Número   Ano  Data           Vereador Descrição  \\\n",
       "100  NaN      4263    2017 NaN    Richard Harrison   NaN        \n",
       "114  NaN      4318    2017 NaN    Rodrigo Fachini    NaN        \n",
       "127  NaN      4457    2017 NaN    Rodrigo Coelho     NaN        \n",
       "1001 NaN      5522    2017 NaN    Pelé               NaN        \n",
       "1004 NaN      5592    2017 NaN    Adilson Girardi    NaN        \n",
       "1015 NaN      5653    2017 NaN    Mauricinho Soares  NaN        \n",
       "1026 NaN      5670    2017 NaN    Rodrigo Coelho     NaN        \n",
       "1028 NaN      5672    2017 NaN    Rodrigo Coelho     NaN        \n",
       "1792 NaN      6506    2017 NaN    Lioilson Corrêa    NaN        \n",
       "1804 NaN      6630    2017 NaN    Rodrigo Coelho     NaN        \n",
       "1863 NaN      6728    2017 NaN    Natanael Jordão    NaN        \n",
       "1878 NaN      6747    2017 NaN    Natanael Jordão    NaN        \n",
       "\n",
       "                                                                                                                                      Rua  \\\n",
       "100   Rua Piratuba. Justificativa : Pracinha encontrasse com muito mato e sujeira impossibilitando as pessoas a utilizarem aquele espeço.   \n",
       "114   São Tiago                                                                                                                             \n",
       "127   Aracajú com a Avenida Marcos Welmuth                                                                                                  \n",
       "1001  Severino Gretter                                                                                                                      \n",
       "1004  Orestes Guimarães                                                                                                                     \n",
       "1015  Constantino Oliveira Borges s/n                                                                                                       \n",
       "1026  Itaporã                                                                                                                               \n",
       "1028  Esmaelita Frida Marino André                                                                                                          \n",
       "1792  NaN                                                                                                                                   \n",
       "1804  Praeses Wuestner                                                                                                                      \n",
       "1863  Rua Padre Valente Semioni em toda a sua extensão no Bairro Aventureiro.                                                               \n",
       "1878  Pica-Pau próximo ao n° 639                                                                                                            \n",
       "\n",
       "      Obs          Bairro  \n",
       "100  NaN   NaN             \n",
       "114  NaN   Fátima          \n",
       "127  NaN   NaN             \n",
       "1001 NaN   NaN             \n",
       "1004 NaN   NaN             \n",
       "1015 NaN   João Costa      \n",
       "1026 NaN   NaN             \n",
       "1028 NaN   NaN             \n",
       "1792 NaN   Paranaguamirim  \n",
       "1804 NaN   NaN             \n",
       "1863 NaN   Aventureiro     \n",
       "1878 NaN   Aventureiro     "
      ]
     },
     "execution_count": 86,
     "metadata": {},
     "output_type": "execute_result"
    }
   ],
   "source": [
    "indi[indi['Descrição'].isnull()]"
   ]
  },
  {
   "cell_type": "markdown",
   "metadata": {},
   "source": [
    "Apenas o primeiro registro (ID=100) tem algum texto adicional na coluna Rua que poderia indicar qual foi a indicação feita mas nos demais não temos informação.\n",
    "\n",
    "Vamos verificar agora os registros sem a coluna Rua. Como já levantamos que a quantidade é maior (647 registros) vamos visualizar inicialmente uma pequena amostra."
   ]
  },
  {
   "cell_type": "code",
   "execution_count": 82,
   "metadata": {
    "collapsed": true
   },
   "outputs": [],
   "source": [
    "#parâmetro para visualizar toda a extensão das colunas\n",
    "pd.options.display.max_colwidth = -1"
   ]
  },
  {
   "cell_type": "code",
   "execution_count": 87,
   "metadata": {
    "collapsed": false
   },
   "outputs": [
    {
     "data": {
      "text/html": [
       "<div>\n",
       "<table border=\"1\" class=\"dataframe\">\n",
       "  <thead>\n",
       "    <tr style=\"text-align: right;\">\n",
       "      <th></th>\n",
       "      <th>Diário</th>\n",
       "      <th>Número</th>\n",
       "      <th>Ano</th>\n",
       "      <th>Data</th>\n",
       "      <th>Vereador</th>\n",
       "      <th>Descrição</th>\n",
       "      <th>Rua</th>\n",
       "      <th>Obs</th>\n",
       "      <th>Bairro</th>\n",
       "    </tr>\n",
       "  </thead>\n",
       "  <tbody>\n",
       "    <tr>\n",
       "      <th>18</th>\n",
       "      <td>NaN</td>\n",
       "      <td>4237</td>\n",
       "      <td>2017</td>\n",
       "      <td>NaN</td>\n",
       "      <td>Adilson Girardi</td>\n",
       "      <td>Repintura das faixas de pedestre ao longo da EstradaPirabeiraba, no bairro Pirabeiraba.</td>\n",
       "      <td>NaN</td>\n",
       "      <td>NaN</td>\n",
       "      <td>Pirabeiraba</td>\n",
       "    </tr>\n",
       "    <tr>\n",
       "      <th>42</th>\n",
       "      <td>NaN</td>\n",
       "      <td>4277</td>\n",
       "      <td>2017</td>\n",
       "      <td>NaN</td>\n",
       "      <td>Wilson Paraiba</td>\n",
       "      <td>Limpeza do terreno localizado nos fundos da escola Caic Prof.Desembargador Francisco Jose R. Oliveira, no Bairro Espinheiros.</td>\n",
       "      <td>NaN</td>\n",
       "      <td>NaN</td>\n",
       "      <td>Espinheiros</td>\n",
       "    </tr>\n",
       "    <tr>\n",
       "      <th>60</th>\n",
       "      <td>NaN</td>\n",
       "      <td>4335</td>\n",
       "      <td>2017</td>\n",
       "      <td>NaN</td>\n",
       "      <td>Natanael Jordão</td>\n",
       "      <td>Limpeza do mato na calçada da Avenida Alvino Hansen nasproximidades do Restaurante Popular. Fazer a Limpeza em toda a Avenida dos matos na calçada.Fazer a repintura da faixa de Pedestre no Cruzamento da Avenida também nas proximidades doRestaurante Popular.</td>\n",
       "      <td>NaN</td>\n",
       "      <td>NaN</td>\n",
       "      <td>NaN</td>\n",
       "    </tr>\n",
       "    <tr>\n",
       "      <th>82</th>\n",
       "      <td>NaN</td>\n",
       "      <td>4469</td>\n",
       "      <td>2017</td>\n",
       "      <td>NaN</td>\n",
       "      <td>Adilson Girardi</td>\n",
       "      <td>Disponibilizar o acesso dos munícipes ao banheiro do terminalurbano de Pirabeiraba, sem a necessidade de pagar a passagem de transporte público municipal.</td>\n",
       "      <td>NaN</td>\n",
       "      <td>NaN</td>\n",
       "      <td>NaN</td>\n",
       "    </tr>\n",
       "    <tr>\n",
       "      <th>84</th>\n",
       "      <td>NaN</td>\n",
       "      <td>4471</td>\n",
       "      <td>2017</td>\n",
       "      <td>NaN</td>\n",
       "      <td>Rodrigo Coelho</td>\n",
       "      <td>Manutenção e limpeza da boca de lobo situada na AvenidaAluísio Pires Condeixa, próximo ao número 3191, no Bairro Saguaçú. Justificativa: A boca de lobo estáentupida e danificada, propiciando riscos de acidentes aos transeuntes.</td>\n",
       "      <td>NaN</td>\n",
       "      <td>NaN</td>\n",
       "      <td>NaN</td>\n",
       "    </tr>\n",
       "  </tbody>\n",
       "</table>\n",
       "</div>"
      ],
      "text/plain": [
       "    Diário  Número   Ano  Data         Vereador  \\\n",
       "18 NaN      4237    2017 NaN    Adilson Girardi   \n",
       "42 NaN      4277    2017 NaN    Wilson Paraiba    \n",
       "60 NaN      4335    2017 NaN    Natanael Jordão   \n",
       "82 NaN      4469    2017 NaN    Adilson Girardi   \n",
       "84 NaN      4471    2017 NaN    Rodrigo Coelho    \n",
       "\n",
       "                                                                                                                                                                                                                                                            Descrição  \\\n",
       "18  Repintura das faixas de pedestre ao longo da EstradaPirabeiraba, no bairro Pirabeiraba.                                                                                                                                                                             \n",
       "42  Limpeza do terreno localizado nos fundos da escola Caic Prof.Desembargador Francisco Jose R. Oliveira, no Bairro Espinheiros.                                                                                                                                       \n",
       "60  Limpeza do mato na calçada da Avenida Alvino Hansen nasproximidades do Restaurante Popular. Fazer a Limpeza em toda a Avenida dos matos na calçada.Fazer a repintura da faixa de Pedestre no Cruzamento da Avenida também nas proximidades doRestaurante Popular.   \n",
       "82  Disponibilizar o acesso dos munícipes ao banheiro do terminalurbano de Pirabeiraba, sem a necessidade de pagar a passagem de transporte público municipal.                                                                                                          \n",
       "84  Manutenção e limpeza da boca de lobo situada na AvenidaAluísio Pires Condeixa, próximo ao número 3191, no Bairro Saguaçú. Justificativa: A boca de lobo estáentupida e danificada, propiciando riscos de acidentes aos transeuntes.                                 \n",
       "\n",
       "    Rua  Obs       Bairro  \n",
       "18  NaN NaN   Pirabeiraba  \n",
       "42  NaN NaN   Espinheiros  \n",
       "60  NaN NaN   NaN          \n",
       "82  NaN NaN   NaN          \n",
       "84  NaN NaN   NaN          "
      ]
     },
     "execution_count": 87,
     "metadata": {},
     "output_type": "execute_result"
    }
   ],
   "source": [
    "#comando para visualizar apenas os 5 primeiros registros sem Rua\n",
    "indi.loc[indi['Rua'].isnull()].head()"
   ]
  },
  {
   "cell_type": "markdown",
   "metadata": {},
   "source": [
    "Podemos verificar que na coluna Descrição temos registro de nomes de \"estrada\" e \"avenida\" (alguns concatenando o tipo de logradouro com o nome do logradouro). Isto pode significar um padrão que não tenha sido considerado na obtenção dos dados originais (em formato PDF) para os arquivos em excel que estamos analisando. Também já aparece uma indicação (ID 82) que realmente não cita nome de logradouro, apenas o nome do bairro (Pirabeiraba).\n",
    "Também verifiquei que existem registros sem a coluna Rua informada onde consta na coluna Descrição a string \"rua\" (em minúsculo) o que também pode ter escapado da primeira migração dos dados de PDF para Excel.\n",
    "\n",
    "Para podermos avaliar a extensão de cada caso vamos fazer uma contagem de registros por tipo de logradouro."
   ]
  },
  {
   "cell_type": "code",
   "execution_count": 149,
   "metadata": {
    "collapsed": false
   },
   "outputs": [
    {
     "name": "stdout",
     "output_type": "stream",
     "text": [
      "estrada = 96\n",
      "avenida = 56\n",
      "rua = 372\n"
     ]
    }
   ],
   "source": [
    "#criar um espelho do dataset apenas com os registros de indicações onde Rua esteja vazio\n",
    "semrua = indi.loc[indi['Rua'].isnull()].dropna(subset=['Descrição'])\n",
    "\n",
    "tipolog = ['estrada', 'avenida', 'rua']\n",
    "for tipo in tipolog:\n",
    "        #contar quantos registros tem essas strings de tipo de logradouro na coluna Descrição (o parâmetro case vai ignorar diferenças de maiúsculas e minúsculas)\n",
    "        qtd = semrua['Descrição'].loc[semrua['Descrição'].str.contains(tipo, case=False)].count()\n",
    "        print(tipo + ' = ' + str(qtd))\n",
    "        "
   ]
  },
  {
   "cell_type": "markdown",
   "metadata": {},
   "source": [
    "Então temos essa quantidade acima de registros que estão com a coluna Rua vazia mas, como contém essas strings de tipo de logradouro na coluna Descrição, existe a possibilidade de extraírmos os nomes dos logradouros e alimentar a coluna Rua."
   ]
  },
  {
   "cell_type": "markdown",
   "metadata": {},
   "source": [
    "Apenas para referência, vamos visualizar uma amostra desses casos identificados."
   ]
  },
  {
   "cell_type": "code",
   "execution_count": 152,
   "metadata": {
    "collapsed": false
   },
   "outputs": [
    {
     "data": {
      "text/html": [
       "<div>\n",
       "<table border=\"1\" class=\"dataframe\">\n",
       "  <thead>\n",
       "    <tr style=\"text-align: right;\">\n",
       "      <th></th>\n",
       "      <th>Diário</th>\n",
       "      <th>Número</th>\n",
       "      <th>Ano</th>\n",
       "      <th>Data</th>\n",
       "      <th>Vereador</th>\n",
       "      <th>Descrição</th>\n",
       "      <th>Rua</th>\n",
       "      <th>Obs</th>\n",
       "      <th>Bairro</th>\n",
       "    </tr>\n",
       "  </thead>\n",
       "  <tbody>\n",
       "    <tr>\n",
       "      <th>97</th>\n",
       "      <td>NaN</td>\n",
       "      <td>4233</td>\n",
       "      <td>2017</td>\n",
       "      <td>NaN</td>\n",
       "      <td>Lioilson Corrêa</td>\n",
       "      <td>Ensaibramento e patrolamento na rua Arara, no bairro Aventureiro.</td>\n",
       "      <td>NaN</td>\n",
       "      <td>NaN</td>\n",
       "      <td>Aventureiro</td>\n",
       "    </tr>\n",
       "    <tr>\n",
       "      <th>145</th>\n",
       "      <td>NaN</td>\n",
       "      <td>4511</td>\n",
       "      <td>2017</td>\n",
       "      <td>NaN</td>\n",
       "      <td>Mauricinho Soares</td>\n",
       "      <td>Construção de quadra descoberta com pista de atletismo, na Escola Municipal Professora Ada Sant' Anna da Silveira, na rua Monsenhor Gercino número 6674, no bairro Itaum.</td>\n",
       "      <td>NaN</td>\n",
       "      <td>NaN</td>\n",
       "      <td>Itaum</td>\n",
       "    </tr>\n",
       "    <tr>\n",
       "      <th>154</th>\n",
       "      <td>NaN</td>\n",
       "      <td>4523</td>\n",
       "      <td>2017</td>\n",
       "      <td>NaN</td>\n",
       "      <td>Lioilson Corrêa</td>\n",
       "      <td>Solicitação de abertura de vala em toda em toda a extensão da rua Normandia, bairro Santa Catarina.</td>\n",
       "      <td>NaN</td>\n",
       "      <td>NaN</td>\n",
       "      <td>Santa Catarina</td>\n",
       "    </tr>\n",
       "    <tr>\n",
       "      <th>260</th>\n",
       "      <td>NaN</td>\n",
       "      <td>4911</td>\n",
       "      <td>2017</td>\n",
       "      <td>NaN</td>\n",
       "      <td>Wilson Paraiba</td>\n",
       "      <td>Conserto e limpeza da boca de lobo, na rua Pica Pau, 495 no Bairro Aventureiro.</td>\n",
       "      <td>NaN</td>\n",
       "      <td>NaN</td>\n",
       "      <td>Aventureiro</td>\n",
       "    </tr>\n",
       "    <tr>\n",
       "      <th>277</th>\n",
       "      <td>NaN</td>\n",
       "      <td>1944</td>\n",
       "      <td>2017</td>\n",
       "      <td>NaN</td>\n",
       "      <td>Rodrigo Fachini</td>\n",
       "      <td>Reposição de boca de lobo localizada na esquina da rua Santa Catarina com a rua Paulo Boehm, no bairro Floresta.</td>\n",
       "      <td>NaN</td>\n",
       "      <td>NaN</td>\n",
       "      <td>Floresta</td>\n",
       "    </tr>\n",
       "  </tbody>\n",
       "</table>\n",
       "</div>"
      ],
      "text/plain": [
       "     Diário  Número   Ano  Data           Vereador  \\\n",
       "97  NaN      4233    2017 NaN    Lioilson Corrêa     \n",
       "145 NaN      4511    2017 NaN    Mauricinho Soares   \n",
       "154 NaN      4523    2017 NaN    Lioilson Corrêa     \n",
       "260 NaN      4911    2017 NaN    Wilson Paraiba      \n",
       "277 NaN      1944    2017 NaN    Rodrigo Fachini     \n",
       "\n",
       "                                                                                                                                                                     Descrição  \\\n",
       "97   Ensaibramento e patrolamento na rua Arara, no bairro Aventureiro.                                                                                                           \n",
       "145  Construção de quadra descoberta com pista de atletismo, na Escola Municipal Professora Ada Sant' Anna da Silveira, na rua Monsenhor Gercino número 6674, no bairro Itaum.   \n",
       "154  Solicitação de abertura de vala em toda em toda a extensão da rua Normandia, bairro Santa Catarina.                                                                         \n",
       "260  Conserto e limpeza da boca de lobo, na rua Pica Pau, 495 no Bairro Aventureiro.                                                                                             \n",
       "277  Reposição de boca de lobo localizada na esquina da rua Santa Catarina com a rua Paulo Boehm, no bairro Floresta.                                                            \n",
       "\n",
       "     Rua  Obs          Bairro  \n",
       "97   NaN NaN   Aventureiro     \n",
       "145  NaN NaN   Itaum           \n",
       "154  NaN NaN   Santa Catarina  \n",
       "260  NaN NaN   Aventureiro     \n",
       "277  NaN NaN   Floresta        "
      ]
     },
     "execution_count": 152,
     "metadata": {},
     "output_type": "execute_result"
    }
   ],
   "source": [
    "#registros com rua na Descrição\n",
    "semrua.loc[semrua['Descrição'].str.contains('rua', case=False)].head()"
   ]
  },
  {
   "cell_type": "code",
   "execution_count": 153,
   "metadata": {
    "collapsed": false
   },
   "outputs": [
    {
     "data": {
      "text/html": [
       "<div>\n",
       "<table border=\"1\" class=\"dataframe\">\n",
       "  <thead>\n",
       "    <tr style=\"text-align: right;\">\n",
       "      <th></th>\n",
       "      <th>Diário</th>\n",
       "      <th>Número</th>\n",
       "      <th>Ano</th>\n",
       "      <th>Data</th>\n",
       "      <th>Vereador</th>\n",
       "      <th>Descrição</th>\n",
       "      <th>Rua</th>\n",
       "      <th>Obs</th>\n",
       "      <th>Bairro</th>\n",
       "    </tr>\n",
       "  </thead>\n",
       "  <tbody>\n",
       "    <tr>\n",
       "      <th>60</th>\n",
       "      <td>NaN</td>\n",
       "      <td>4335</td>\n",
       "      <td>2017</td>\n",
       "      <td>NaN</td>\n",
       "      <td>Natanael Jordão</td>\n",
       "      <td>Limpeza do mato na calçada da Avenida Alvino Hansen nasproximidades do Restaurante Popular. Fazer a Limpeza em toda a Avenida dos matos na calçada.Fazer a repintura da faixa de Pedestre no Cruzamento da Avenida também nas proximidades doRestaurante Popular.</td>\n",
       "      <td>NaN</td>\n",
       "      <td>NaN</td>\n",
       "      <td>NaN</td>\n",
       "    </tr>\n",
       "    <tr>\n",
       "      <th>84</th>\n",
       "      <td>NaN</td>\n",
       "      <td>4471</td>\n",
       "      <td>2017</td>\n",
       "      <td>NaN</td>\n",
       "      <td>Rodrigo Coelho</td>\n",
       "      <td>Manutenção e limpeza da boca de lobo situada na AvenidaAluísio Pires Condeixa, próximo ao número 3191, no Bairro Saguaçú. Justificativa: A boca de lobo estáentupida e danificada, propiciando riscos de acidentes aos transeuntes.</td>\n",
       "      <td>NaN</td>\n",
       "      <td>NaN</td>\n",
       "      <td>NaN</td>\n",
       "    </tr>\n",
       "    <tr>\n",
       "      <th>197</th>\n",
       "      <td>NaN</td>\n",
       "      <td>4418</td>\n",
       "      <td>2017</td>\n",
       "      <td>NaN</td>\n",
       "      <td>Rodrigo Coelho</td>\n",
       "      <td>Poda de todas as árvores da Avenida Juscelino Kubitschek, em toda a extensão e especialmente nos arredores da Catedral São Francisco Xavier, no Centro. Justificativa: As copas das árvores estão muito densas e com proporções muito grandes, necessitando a poda, pois é indispensável o planejamento da manutenção da arborização urbana e a realização de um programa sistemático de podas.</td>\n",
       "      <td>NaN</td>\n",
       "      <td>NaN</td>\n",
       "      <td>NaN</td>\n",
       "    </tr>\n",
       "    <tr>\n",
       "      <th>347</th>\n",
       "      <td>NaN</td>\n",
       "      <td>4706</td>\n",
       "      <td>2017</td>\n",
       "      <td>NaN</td>\n",
       "      <td>Richard Harrison</td>\n",
       "      <td>Limpeza e roçada da unidade de saúde do jardim Edilene na Avenida kurt Meinert Nº 1574, no Bairro Jardim Edilene.</td>\n",
       "      <td>NaN</td>\n",
       "      <td>NaN</td>\n",
       "      <td>NaN</td>\n",
       "    </tr>\n",
       "    <tr>\n",
       "      <th>434</th>\n",
       "      <td>NaN</td>\n",
       "      <td>4826</td>\n",
       "      <td>2017</td>\n",
       "      <td>NaN</td>\n",
       "      <td>Natanael Jordão</td>\n",
       "      <td>Ensaibramento e patrolamento da Avenida Francisco Alves, em toda a sua extensão, no Bairro João Costa.</td>\n",
       "      <td>NaN</td>\n",
       "      <td>NaN</td>\n",
       "      <td>João Costa</td>\n",
       "    </tr>\n",
       "  </tbody>\n",
       "</table>\n",
       "</div>"
      ],
      "text/plain": [
       "     Diário  Número   Ano  Data          Vereador  \\\n",
       "60  NaN      4335    2017 NaN    Natanael Jordão    \n",
       "84  NaN      4471    2017 NaN    Rodrigo Coelho     \n",
       "197 NaN      4418    2017 NaN    Rodrigo Coelho     \n",
       "347 NaN      4706    2017 NaN    Richard Harrison   \n",
       "434 NaN      4826    2017 NaN    Natanael Jordão    \n",
       "\n",
       "                                                                                                                                                                                                                                                                                                                                                                                           Descrição  \\\n",
       "60   Limpeza do mato na calçada da Avenida Alvino Hansen nasproximidades do Restaurante Popular. Fazer a Limpeza em toda a Avenida dos matos na calçada.Fazer a repintura da faixa de Pedestre no Cruzamento da Avenida também nas proximidades doRestaurante Popular.                                                                                                                                 \n",
       "84   Manutenção e limpeza da boca de lobo situada na AvenidaAluísio Pires Condeixa, próximo ao número 3191, no Bairro Saguaçú. Justificativa: A boca de lobo estáentupida e danificada, propiciando riscos de acidentes aos transeuntes.                                                                                                                                                               \n",
       "197  Poda de todas as árvores da Avenida Juscelino Kubitschek, em toda a extensão e especialmente nos arredores da Catedral São Francisco Xavier, no Centro. Justificativa: As copas das árvores estão muito densas e com proporções muito grandes, necessitando a poda, pois é indispensável o planejamento da manutenção da arborização urbana e a realização de um programa sistemático de podas.   \n",
       "347  Limpeza e roçada da unidade de saúde do jardim Edilene na Avenida kurt Meinert Nº 1574, no Bairro Jardim Edilene.                                                                                                                                                                                                                                                                                 \n",
       "434  Ensaibramento e patrolamento da Avenida Francisco Alves, em toda a sua extensão, no Bairro João Costa.                                                                                                                                                                                                                                                                                            \n",
       "\n",
       "     Rua  Obs      Bairro  \n",
       "60   NaN NaN   NaN         \n",
       "84   NaN NaN   NaN         \n",
       "197  NaN NaN   NaN         \n",
       "347  NaN NaN   NaN         \n",
       "434  NaN NaN   João Costa  "
      ]
     },
     "execution_count": 153,
     "metadata": {},
     "output_type": "execute_result"
    }
   ],
   "source": [
    "#registros com avenida na Descrição\n",
    "semrua.loc[semrua['Descrição'].str.contains('avenida', case=False)].head()"
   ]
  },
  {
   "cell_type": "code",
   "execution_count": 154,
   "metadata": {
    "collapsed": false
   },
   "outputs": [
    {
     "data": {
      "text/html": [
       "<div>\n",
       "<table border=\"1\" class=\"dataframe\">\n",
       "  <thead>\n",
       "    <tr style=\"text-align: right;\">\n",
       "      <th></th>\n",
       "      <th>Diário</th>\n",
       "      <th>Número</th>\n",
       "      <th>Ano</th>\n",
       "      <th>Data</th>\n",
       "      <th>Vereador</th>\n",
       "      <th>Descrição</th>\n",
       "      <th>Rua</th>\n",
       "      <th>Obs</th>\n",
       "      <th>Bairro</th>\n",
       "    </tr>\n",
       "  </thead>\n",
       "  <tbody>\n",
       "    <tr>\n",
       "      <th>18</th>\n",
       "      <td>NaN</td>\n",
       "      <td>4237</td>\n",
       "      <td>2017</td>\n",
       "      <td>NaN</td>\n",
       "      <td>Adilson Girardi</td>\n",
       "      <td>Repintura das faixas de pedestre ao longo da EstradaPirabeiraba, no bairro Pirabeiraba.</td>\n",
       "      <td>NaN</td>\n",
       "      <td>NaN</td>\n",
       "      <td>Pirabeiraba</td>\n",
       "    </tr>\n",
       "    <tr>\n",
       "      <th>235</th>\n",
       "      <td>NaN</td>\n",
       "      <td>4613</td>\n",
       "      <td>2017</td>\n",
       "      <td>NaN</td>\n",
       "      <td>Pelé</td>\n",
       "      <td>Conserto de buracos no asfalto da Estrada Timbé, em frente aos N° 6910 e 6990, no Bairro Jardim Paraíso.</td>\n",
       "      <td>NaN</td>\n",
       "      <td>NaN</td>\n",
       "      <td>Jardim Paraíso</td>\n",
       "    </tr>\n",
       "    <tr>\n",
       "      <th>243</th>\n",
       "      <td>NaN</td>\n",
       "      <td>4864</td>\n",
       "      <td>2017</td>\n",
       "      <td>NaN</td>\n",
       "      <td>Adilson Girardi</td>\n",
       "      <td>Ensaibramento e patrolamento da Estrada Fernão André Gomes, em toda a sua extensão, no Bairro Nova Brasília.</td>\n",
       "      <td>NaN</td>\n",
       "      <td>NaN</td>\n",
       "      <td>Nova Brasília</td>\n",
       "    </tr>\n",
       "    <tr>\n",
       "      <th>259</th>\n",
       "      <td>NaN</td>\n",
       "      <td>4907</td>\n",
       "      <td>2017</td>\n",
       "      <td>NaN</td>\n",
       "      <td>Adilson Girardi</td>\n",
       "      <td>Instalação de boca de lobo na Estrada Dedo Grosso, Bairro Vila Nova, em frente a segunda casa do lado esquerdo da via (de quem vem da Rodovia do arroz).</td>\n",
       "      <td>NaN</td>\n",
       "      <td>NaN</td>\n",
       "      <td>NaN</td>\n",
       "    </tr>\n",
       "    <tr>\n",
       "      <th>644</th>\n",
       "      <td>NaN</td>\n",
       "      <td>5144</td>\n",
       "      <td>2017</td>\n",
       "      <td>NaN</td>\n",
       "      <td>Adilson Girardi</td>\n",
       "      <td>Contratar ou remanejar 03 agentes de saúde para a Unidade Básica de Saúde da Familia Estrada Anaburgo no bairro Vila Nova e também fornecer bicicletas para os agentes de saúde. Justificativa: Atualmente a UBSF Estrada Anaburgo, para atender a comunidade de forma efetiva, necessita de 05 agentes de saúde, os quais precisam utilizar bicicletas para desempenhar as suas funções.</td>\n",
       "      <td>NaN</td>\n",
       "      <td>NaN</td>\n",
       "      <td>NaN</td>\n",
       "    </tr>\n",
       "  </tbody>\n",
       "</table>\n",
       "</div>"
      ],
      "text/plain": [
       "     Diário  Número   Ano  Data         Vereador  \\\n",
       "18  NaN      4237    2017 NaN    Adilson Girardi   \n",
       "235 NaN      4613    2017 NaN    Pelé              \n",
       "243 NaN      4864    2017 NaN    Adilson Girardi   \n",
       "259 NaN      4907    2017 NaN    Adilson Girardi   \n",
       "644 NaN      5144    2017 NaN    Adilson Girardi   \n",
       "\n",
       "                                                                                                                                                                                                                                                                                                                                                                                     Descrição  \\\n",
       "18   Repintura das faixas de pedestre ao longo da EstradaPirabeiraba, no bairro Pirabeiraba.                                                                                                                                                                                                                                                                                                     \n",
       "235  Conserto de buracos no asfalto da Estrada Timbé, em frente aos N° 6910 e 6990, no Bairro Jardim Paraíso.                                                                                                                                                                                                                                                                                    \n",
       "243  Ensaibramento e patrolamento da Estrada Fernão André Gomes, em toda a sua extensão, no Bairro Nova Brasília.                                                                                                                                                                                                                                                                                \n",
       "259  Instalação de boca de lobo na Estrada Dedo Grosso, Bairro Vila Nova, em frente a segunda casa do lado esquerdo da via (de quem vem da Rodovia do arroz).                                                                                                                                                                                                                                    \n",
       "644  Contratar ou remanejar 03 agentes de saúde para a Unidade Básica de Saúde da Familia Estrada Anaburgo no bairro Vila Nova e também fornecer bicicletas para os agentes de saúde. Justificativa: Atualmente a UBSF Estrada Anaburgo, para atender a comunidade de forma efetiva, necessita de 05 agentes de saúde, os quais precisam utilizar bicicletas para desempenhar as suas funções.   \n",
       "\n",
       "     Rua  Obs          Bairro  \n",
       "18   NaN NaN   Pirabeiraba     \n",
       "235  NaN NaN   Jardim Paraíso  \n",
       "243  NaN NaN   Nova Brasília   \n",
       "259  NaN NaN   NaN             \n",
       "644  NaN NaN   NaN             "
      ]
     },
     "execution_count": 154,
     "metadata": {},
     "output_type": "execute_result"
    }
   ],
   "source": [
    "#registros com estrada na Descrição\n",
    "semrua.loc[semrua['Descrição'].str.contains('estrada', case=False)].head()"
   ]
  },
  {
   "cell_type": "markdown",
   "metadata": {},
   "source": [
    "O próximo passo, então, é extrair os nomes desses logradouros para alimentar a coluna Rua."
   ]
  }
 ],
 "metadata": {
  "kernelspec": {
   "display_name": "Python 3",
   "language": "python",
   "name": "python3"
  }
 },
 "nbformat": 4,
 "nbformat_minor": 2
}
